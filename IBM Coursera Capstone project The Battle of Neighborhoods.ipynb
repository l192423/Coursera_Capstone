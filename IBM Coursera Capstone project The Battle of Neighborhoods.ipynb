{
 "cells": [
  {
   "cell_type": "markdown",
   "metadata": {},
   "source": [
    "# IBM Coursera Capstone project The Battle of Neighborhoods Week 1"
   ]
  },
  {
   "cell_type": "markdown",
   "metadata": {},
   "source": [
    "## Business problem"
   ]
  },
  {
   "cell_type": "markdown",
   "metadata": {},
   "source": [
    "### Background\n",
    "\n",
    "Pakistan is a catchy place due to its geographical significance. In last few years world has realized its importance and start investing in it. Since 2010 many international companies from different sectors like Automobile, Gas & Oil, Agriculture, fashion and consturction establishing their businesses in Pakistan. CPEC a multi-billion project with China is about to complete and after that world will be attract towards Pakistan and everyone will be in hurry to invest at the right time and at the right place."
   ]
  },
  {
   "cell_type": "markdown",
   "metadata": {},
   "source": [
    "### Business Problem\n",
    "\n",
    "As we can see this is the right to to analyze the trends and invest your money so you will get the best out of your desision using machine learning approches. Here we will work on real state sector as this is always considered one of the most profit generated area. We will see which place is best to buy according to your need. For example if someone wants to buy a place at non commertial area than where should he invest his minimum money to possess maximum land. Or if someone wants to start a business than definitly he wants a place which is surrunded by many people having interest related to their business."
   ]
  },
  {
   "cell_type": "markdown",
   "metadata": {},
   "source": [
    "## Data Collection\n",
    "\n",
    "Data is the base of every experiment. So, we will use Zameen.com dataset which include property type, price, location, area, bathrooms, bedrooms and some other features. You can download the dataset from kaggle 'https://www.kaggle.com/huzzefakhan/zameencom-property-data-pakistan'. The dataset have many columns and some of them are not required in our analysis. We will remove and manipulate our data according to our need.\n",
    "\n",
    "For location, tips and Venue services we will use Foursquare API and find the trends in the specified area."
   ]
  },
  {
   "cell_type": "code",
   "execution_count": null,
   "metadata": {},
   "outputs": [],
   "source": []
  }
 ],
 "metadata": {
  "kernelspec": {
   "display_name": "Python 3",
   "language": "python",
   "name": "python3"
  },
  "language_info": {
   "codemirror_mode": {
    "name": "ipython",
    "version": 3
   },
   "file_extension": ".py",
   "mimetype": "text/x-python",
   "name": "python",
   "nbconvert_exporter": "python",
   "pygments_lexer": "ipython3",
   "version": "3.7.4"
  }
 },
 "nbformat": 4,
 "nbformat_minor": 4
}
